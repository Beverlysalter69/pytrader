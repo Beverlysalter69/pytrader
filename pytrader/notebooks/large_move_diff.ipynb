{
 "metadata": {
  "name": "",
  "signature": "sha256:e312d58c7d6c32fdabe4798eacde849a2511fb48d7591d7e7e7553567ea99938"
 },
 "nbformat": 3,
 "nbformat_minor": 0,
 "worksheets": [
  {
   "cells": [
    {
     "cell_type": "markdown",
     "metadata": {},
     "source": [
      "# What happens when we buy/sell after a big market move?"
     ]
    },
    {
     "cell_type": "markdown",
     "metadata": {},
     "source": [
      "# First iteration: Buy/Sell and hold the position"
     ]
    },
    {
     "cell_type": "code",
     "collapsed": false,
     "input": [
      "%pylab inline\n",
      "import zipline"
     ],
     "language": "python",
     "metadata": {},
     "outputs": [
      {
       "output_type": "stream",
       "stream": "stdout",
       "text": [
        "Populating the interactive namespace from numpy and matplotlib\n"
       ]
      }
     ],
     "prompt_number": 1
    },
    {
     "cell_type": "code",
     "collapsed": false,
     "input": [
      "%%zipline --start 2010-01-01 --symbols KO,AAPL,XOM,PEP,MSFT,IBM,ABT,ACE,ACN,ACT,ADBE,A,GAS,APD,AMG,AFL,AET,AES,WYN,WYNN,XEL,XRX,XLNX,XL,ZMH,ZION,YUM,YHOO\n",
      "\n",
      "from sklearn.ensemble import RandomForestClassifier\n",
      "\n",
      "from zipline.api import order_percent\n",
      "\n",
      "\n",
      "def _calc_return(new, old):\n",
      "    return (new - old) / old\n",
      "\n",
      "\n",
      "def initialize(context):\n",
      "    context.model = RandomForestClassifier()\n",
      "    context.x = []\n",
      "    context.y = []\n",
      "    context.yesterday_price = {}\n",
      "    context.number_days_after = 1\n",
      "    context.data_points_necessary = 50\n",
      "    context.data_countdowns = []\n",
      "    context.threshold = .05\n",
      "    context.predictions = []\n",
      "\n",
      "\n",
      "def handle_countdowns(context, data):\n",
      "    countdown_idx_to_remove = []\n",
      "    for idx, day_tuple in enumerate(context.data_countdowns):\n",
      "        countdown = day_tuple[1] - 1\n",
      "        if countdown == 0:\n",
      "            # This must e a list or else RandomForest will throw an error\n",
      "            context.x.append([day_tuple[3]])\n",
      "            context.y.append(_calc_return(data[day_tuple[0]][\"close\"], day_tuple[2]) > 0)\n",
      "            countdown_idx_to_remove.append(idx)\n",
      "        else:\n",
      "            context.data_countdowns[idx] = (day_tuple[0], countdown) + day_tuple[2:]\n",
      "    context.data_countdowns = [\n",
      "        day_tuple for idx, day_tuple in enumerate(context.data_countdowns)\n",
      "        if idx not in countdown_idx_to_remove\n",
      "    ]\n",
      "\n",
      "\n",
      "def handle_price_histories(context, data):\n",
      "    for ticker, stock_data in data.items():\n",
      "        if ticker not in context.yesterday_price:\n",
      "            context.yesterday_price[ticker] = stock_data[\"close\"]\n",
      "        elif abs(_calc_return(stock_data[\"close\"], context.yesterday_price[ticker])) > context.threshold:\n",
      "            # This should really be a namedtuple\n",
      "            context.data_countdowns.append(\n",
      "                (ticker,\n",
      "                 context.number_days_after,\n",
      "                 stock_data[\"close\"],\n",
      "                 _calc_return(stock_data[\"close\"], context.yesterday_price[ticker]),\n",
      "                )\n",
      "            )\n",
      "            context.yesterday_price[ticker] = stock_data[\"close\"]\n",
      "        else:\n",
      "            context.yesterday_price[ticker] = stock_data[\"close\"]\n",
      "\n",
      "\n",
      "def handle_data(context, data):\n",
      "    handle_countdowns(context, data)\n",
      "    old_data_counts = len(context.data_countdowns)\n",
      "    handle_price_histories(context, data)\n",
      "    new_data_counts = len(context.data_countdowns)\n",
      "    if len(context.x) > context.data_points_necessary and new_data_counts > old_data_counts:\n",
      "        context.model.fit(context.x, context.y)\n",
      "        new_counts = context.data_countdowns[old_data_counts:]\n",
      "        for idx, data_tuple in enumerate(new_counts):\n",
      "            prediction = context.model.predict([data_tuple[3]])\n",
      "            order_percent(data_tuple[0], {1: 1, 0: -1}[int(prediction)] * (1.0 / len(data)))\n",
      "\n",
      "\n",
      "def analyze(context, perf):\n",
      "    perf.portfolio_value.plot()\n",
      "    plt.ylabel('portfolio value in $')\n",
      "    plt.legend(loc=0)\n",
      "    plt.show()\n"
     ],
     "language": "python",
     "metadata": {},
     "outputs": [
      {
       "output_type": "stream",
       "stream": "stdout",
       "text": [
        "KO\n",
        "AAPL\n",
        "XOM\n",
        "PEP\n",
        "MSFT\n",
        "IBM\n",
        "ABT\n",
        "ACE\n",
        "ACN\n",
        "ACT\n",
        "ADBE\n",
        "A"
       ]
      },
      {
       "output_type": "stream",
       "stream": "stdout",
       "text": [
        "\n",
        "GAS\n",
        "APD\n",
        "AMG\n",
        "AFL\n",
        "AET\n",
        "AES\n",
        "WYN\n",
        "WYNN\n",
        "XEL\n",
        "XRX\n",
        "XLNX\n",
        "XL"
       ]
      },
      {
       "output_type": "stream",
       "stream": "stderr",
       "text": [
        "[2014-10-23 07:34] INFO: Performance: Simulated 754 trading days out of 754.\n"
       ]
      },
      {
       "output_type": "stream",
       "stream": "stderr",
       "text": [
        "[2014-10-23 07:34] INFO: Performance: first open: 2010-01-04 14:31:00+00:00\n"
       ]
      },
      {
       "output_type": "stream",
       "stream": "stderr",
       "text": [
        "[2014-10-23 07:34] INFO: Performance: last close: 2012-12-31 21:00:00+00:00\n"
       ]
      },
      {
       "output_type": "stream",
       "stream": "stdout",
       "text": [
        "\n",
        "ZMH\n",
        "ZION\n",
        "YUM\n",
        "YHOO\n"
       ]
      },
      {
       "metadata": {},
       "output_type": "display_data",
       "png": "[encoded data removed]",
       "text": [
        "<matplotlib.figure.Figure at 0xa3f6996c>"
       ]
      }
     ],
     "prompt_number": 2
    },
    {
     "cell_type": "markdown",
     "metadata": {},
     "source": [
      "This is not really unexpected. We are practicing a buy/short and hold policy. The buys are definitely an upside in a bull market (ie 2012) but the short positions are probably what is killing our portfolio. Lets try terminating the position a day after we buy/short."
     ]
    },
    {
     "cell_type": "markdown",
     "metadata": {},
     "source": [
      "## Second Iteration. This time killing the order after a day"
     ]
    },
    {
     "cell_type": "code",
     "collapsed": false,
     "input": [
      "%%zipline --start 2010-01-01 --symbols KO,AAPL,XOM,PEP,MSFT,IBM,ABT,ACE,ACN,ACT,ADBE,A,GAS,APD,AMG,AFL,AET,AES,WYN,WYNN,XEL,XRX,XLNX,XL,ZMH,ZION,YUM,YHOO\n",
      "import matplotlib.pyplot as plt\n",
      "from sklearn.ensemble import RandomForestClassifier\n",
      "\n",
      "from zipline.api import order_percent, order_target\n",
      "\n",
      "\n",
      "def _calc_return(new, old):\n",
      "    return (new - old) / old\n",
      "\n",
      "\n",
      "def initialize(context):\n",
      "    context.model = RandomForestClassifier()\n",
      "    context.x = []\n",
      "    context.y = []\n",
      "    context.yesterday_price = {}\n",
      "    context.number_days_after = 1\n",
      "    context.data_points_necessary = 0\n",
      "    context.data_countdowns = []\n",
      "    context.to_terminate = []\n",
      "    context.threshold = .05\n",
      "    context.predictions = []\n",
      "\n",
      "\n",
      "def handle_countdowns(context, data):\n",
      "    countdown_idx_to_remove = []\n",
      "    for idx, day_tuple in enumerate(context.data_countdowns):\n",
      "        countdown = day_tuple[1] - 1\n",
      "        if countdown == 0:\n",
      "            # This must e a list or else RandomForest will throw an error\n",
      "            context.x.append([day_tuple[3]])\n",
      "            context.y.append(_calc_return(data[day_tuple[0]][\"close\"], day_tuple[2]) > 0)\n",
      "            countdown_idx_to_remove.append(idx)\n",
      "        else:\n",
      "            context.data_countdowns[idx] = (day_tuple[0], countdown) + day_tuple[2:]\n",
      "    context.data_countdowns = [\n",
      "        day_tuple for idx, day_tuple in enumerate(context.data_countdowns)\n",
      "        if idx not in countdown_idx_to_remove\n",
      "    ]\n",
      "\n",
      "\n",
      "def handle_price_histories(context, data):\n",
      "    for ticker, stock_data in data.items():\n",
      "        if ticker not in context.yesterday_price:\n",
      "            context.yesterday_price[ticker] = stock_data[\"close\"]\n",
      "        elif abs(_calc_return(stock_data[\"close\"], context.yesterday_price[ticker])) > context.threshold:\n",
      "            # This should really be a namedtuple\n",
      "            context.data_countdowns.append(\n",
      "                (ticker,\n",
      "                 context.number_days_after,\n",
      "                 stock_data[\"close\"],\n",
      "                 _calc_return(stock_data[\"close\"], context.yesterday_price[ticker]),\n",
      "                )\n",
      "            )\n",
      "            context.yesterday_price[ticker] = stock_data[\"close\"]\n",
      "        else:\n",
      "            context.yesterday_price[ticker] = stock_data[\"close\"]\n",
      "\n",
      "\n",
      "def handle_terminations(context):\n",
      "    idx_to_remove = []\n",
      "    for idx, position in enumerate(context.to_terminate):\n",
      "        ticker = position[0]\n",
      "        # This isn't generalized but oh well for now\n",
      "        order_target(ticker, 0)\n",
      "        idx_to_remove.append(idx)\n",
      "    context.to_terminate = [\n",
      "        data for idx, data in enumerate(context.to_terminate) if idx not in idx_to_remove\n",
      "    ]\n",
      "\n",
      "\n",
      "\n",
      "def handle_data(context, data):\n",
      "    handle_terminations(context)\n",
      "    handle_countdowns(context, data)\n",
      "    old_data_counts = len(context.data_countdowns)\n",
      "    handle_price_histories(context, data)\n",
      "    new_data_counts = len(context.data_countdowns)\n",
      "    if len(context.x) > context.data_points_necessary and new_data_counts > old_data_counts:\n",
      "        context.model.fit(context.x, context.y)\n",
      "        new_counts = context.data_countdowns[old_data_counts:]\n",
      "        for idx, data_tuple in enumerate(new_counts):\n",
      "            prediction = context.model.predict([data_tuple[3]])\n",
      "            order_percent(data_tuple[0], {1: 1, 0: -1}[int(prediction)] * (1.0 / len(data)))\n",
      "            # This isn't generalized but oh well for now\n",
      "            context.to_terminate.append((data_tuple[0], {1: 1, 0: -1}[int(prediction)]))\n",
      "\n",
      "\n",
      "def analyze(context, perf):\n",
      "    perf.portfolio_value.plot()\n",
      "    plt.ylabel('portfolio value in $')\n",
      "    plt.legend(loc=0)\n",
      "    plt.show()\n"
     ],
     "language": "python",
     "metadata": {},
     "outputs": [
      {
       "output_type": "stream",
       "stream": "stdout",
       "text": [
        "KO\n",
        "AAPL\n",
        "XOM\n",
        "PEP\n",
        "MSFT\n",
        "IBM\n",
        "ABT\n",
        "ACE\n",
        "ACN\n",
        "ACT\n",
        "ADBE\n",
        "A\n",
        "GAS\n",
        "APD\n",
        "AMG\n",
        "AFL\n",
        "AET\n",
        "AES\n",
        "WYN"
       ]
      },
      {
       "output_type": "stream",
       "stream": "stderr",
       "text": [
        "[2014-10-26 10:00] INFO: Performance: Simulated 754 trading days out of 754.\n"
       ]
      },
      {
       "output_type": "stream",
       "stream": "stderr",
       "text": [
        "[2014-10-26 10:00] INFO: Performance: first open: 2010-01-04 14:31:00+00:00\n"
       ]
      },
      {
       "output_type": "stream",
       "stream": "stderr",
       "text": [
        "[2014-10-26 10:00] INFO: Performance: last close: 2012-12-31 21:00:00+00:00\n"
       ]
      },
      {
       "output_type": "stream",
       "stream": "stdout",
       "text": [
        "\n",
        "WYNN\n",
        "XEL\n",
        "XRX\n",
        "XLNX\n",
        "XL\n",
        "ZMH\n",
        "ZION\n",
        "YUM\n",
        "YHOO\n"
       ]
      },
      {
       "metadata": {},
       "output_type": "display_data",
       "png": "[encoded data removed]",
       "text": [
        "<matplotlib.figure.Figure at 0xb0b0052c>"
       ]
      }
     ],
     "prompt_number": 6
    },
    {
     "cell_type": "markdown",
     "metadata": {},
     "source": [
      "Now we have some reasonable looking results. Turns out that a generalized strategy of looking for large price swings in the market is basically the same thing as flipping a coin. Maybe if we add additional context about the stock we will be able to determine where the price is heading better."
     ]
    },
    {
     "cell_type": "code",
     "collapsed": false,
     "input": [
      "%%zipline --start 2010-01-01 --symbols KO,AAPL,XOM,PEP,MSFT,IBM,ABT,ACE,ACN,ACT,ADBE,A,GAS,APD,AMG,AFL,AET,AES,WYN,WYNN,XEL,XRX,XLNX,XL,ZMH,ZION,YUM,YHOO\n",
      "\n",
      "from collections import namedtuple\n",
      "from getpass import getpass\n",
      "\n",
      "import matplotlib.pyplot as plt\n",
      "from numpy import append, array, diff\n",
      "from pandas import DataFrame\n",
      "from redis import StrictRedis\n",
      "from sklearn.ensemble import RandomForestClassifier\n",
      "from zipline.api import order_percent, order_target\n",
      "\n",
      "from pytrader.exceptions import RecordsNotFoundError\n",
      "from pytrader.gatherer import gather_data_with_single_process_client\n",
      "from pytrader.main import get_authenticated_data_impl\n",
      "from pytrader.storage import pull_from_redis, push_to_redis\n",
      "\n",
      "\n",
      "def _calc_return(new, old):\n",
      "    return (new - old) / old\n",
      "\n",
      "\n",
      "def get_x_point(context, data, ticker, move_return):\n",
      "    date = data[ticker][\"dt\"].strftime(\"%Y-%m-%d\")\n",
      "    pytrader_data = context.pytrader_data[ticker].loc[date].values\n",
      "    return append(pytrader_data, move_return)\n",
      "\n",
      "\n",
      "def initialize(context):\n",
      "    context.pytrader_data = {}\n",
      "    context.model = RandomForestClassifier()\n",
      "    context.StockTuple = namedtuple(\"StockTuple\", [\"ticker\", \"days_after\", \"close\", \"move_return\"])\n",
      "    context.x = []\n",
      "    context.y = []\n",
      "    context.yesterday_price = {}\n",
      "    context.number_days_after = 1\n",
      "    context.data_points_necessary = 0\n",
      "    context.data_countdowns = []\n",
      "    context.to_terminate = []\n",
      "    context.threshold = .05\n",
      "    context.predictions = []\n",
      "\n",
      "\n",
      "def calculate_diffs(df):\n",
      "    diff_cols = [\"diff_{}\".format(key) for key in df.keys()]\n",
      "    diff_vals = [append(0, diff(df[key].values) / df[key].values[:-1]) for key in df.keys()]\n",
      "    return DataFrame(array(diff_vals).transpose(), index=df.index.values, columns=diff_cols)\n",
      "\n",
      "\n",
      "def post_initialize(context, data):\n",
      "    \"\"\"\n",
      "    Since `initialize` doesn't actually enable us to see the parameters of when\n",
      "    our simulation is starting/ending we need to create a `post_initialize` func\n",
      "    to handle gathering extra data from pytrader\n",
      "    \"\"\"\n",
      "    if context.sim_params.period_start == data[data.keys()[0]][\"dt\"]:\n",
      "        redis = StrictRedis(host=\"localhost\", port=6379, db=0)\n",
      "        data_impl = get_authenticated_data_impl(\"grehm87@gmail.com\", \"hahnchoy\")\n",
      "        # Since we are currently using YCharts our data schema is a little weird\n",
      "        start_date = context.sim_params.period_start.strftime(\"%Y-%m-%d\")\n",
      "        end_date = context.sim_params.period_end.strftime(\"%Y-%m-%d\")\n",
      "        for ticker in data.keys():\n",
      "            try:\n",
      "                pytrader_data = pull_from_redis(redis, ticker, start_date, end_date)\n",
      "            except RecordsNotFoundError:\n",
      "                pytrader_data = gather_data_with_single_process_client(data_impl, ticker, None, start_date, end_date)\n",
      "                push_to_redis(redis, pytrader_data, ticker)\n",
      "            del pytrader_data[\"price\"]  # Delete the price col, we don't need it\n",
      "            pytrader_data = calculate_diffs(pytrader_data)\n",
      "            context.pytrader_data[ticker] = pytrader_data\n",
      "\n",
      "\n",
      "def handle_countdowns(context, data):\n",
      "    countdown_idx_to_remove = []\n",
      "    for idx, stock_tuple in enumerate(context.data_countdowns):\n",
      "        ticker = stock_tuple.ticker\n",
      "        countdown = stock_tuple.days_after - 1\n",
      "        if countdown == 0:\n",
      "            context.x.append(get_x_point(context, data, stock_tuple.ticker, stock_tuple.move_return))\n",
      "            context.y.append(_calc_return(data[stock_tuple.ticker][\"close\"], stock_tuple.close) > 0)\n",
      "            countdown_idx_to_remove.append(idx)\n",
      "        else:\n",
      "            context.data_countdowns[idx] = context.StockTuple(\n",
      "                stock_tuple.ticker, countdown, *stock_tuple[2:]\n",
      "            )\n",
      "    context.data_countdowns = [\n",
      "        stock_tuple for idx, stock_tuple in enumerate(context.data_countdowns)\n",
      "        if idx not in countdown_idx_to_remove\n",
      "    ]\n",
      "\n",
      "\n",
      "def handle_price_histories(context, data):\n",
      "    for ticker, stock_data in data.items():\n",
      "        if ticker not in context.yesterday_price:\n",
      "            context.yesterday_price[ticker] = stock_data[\"close\"]\n",
      "        elif abs(_calc_return(stock_data[\"close\"], context.yesterday_price[ticker])) > context.threshold:\n",
      "            context.data_countdowns.append(context.StockTuple(\n",
      "                ticker,\n",
      "                context.number_days_after,\n",
      "                stock_data[\"close\"],\n",
      "                _calc_return(stock_data[\"close\"], context.yesterday_price[ticker])\n",
      "            ))\n",
      "            context.yesterday_price[ticker] = stock_data[\"close\"]\n",
      "        else:\n",
      "            context.yesterday_price[ticker] = stock_data[\"close\"]\n",
      "\n",
      "\n",
      "def handle_terminations(context):\n",
      "    idx_to_remove = []\n",
      "    for idx, position in enumerate(context.to_terminate):\n",
      "        ticker = position[0]\n",
      "        # This isn't generic but oh well for now\n",
      "        order_target(ticker, 0)\n",
      "        idx_to_remove.append(idx)\n",
      "    context.to_terminate = [\n",
      "        data for idx, data in enumerate(context.to_terminate) if idx not in idx_to_remove\n",
      "    ]\n",
      "\n",
      "\n",
      "def handle_data(context, data):\n",
      "    post_initialize(context, data)\n",
      "    handle_terminations(context)\n",
      "    handle_countdowns(context, data)\n",
      "    old_data_counts = len(context.data_countdowns)\n",
      "    handle_price_histories(context, data)\n",
      "    new_data_counts = len(context.data_countdowns)\n",
      "    if len(context.x) > context.data_points_necessary and new_data_counts > old_data_counts:\n",
      "        context.model.fit(context.x, context.y)\n",
      "        new_counts = context.data_countdowns[old_data_counts:]\n",
      "        for idx, stock_tuple in enumerate(new_counts):\n",
      "            prediction = context.model.predict(\n",
      "                get_x_point(context, data, stock_tuple.ticker, stock_tuple.move_return)\n",
      "            )\n",
      "            order_percent(stock_tuple.ticker, {1: 1, 0: -1}[int(prediction)] * (1.0 / len(data)))\n",
      "            # This isn't correct but oh well for now\n",
      "            context.to_terminate.append((stock_tuple.ticker, {1: 1, 0: -1}[int(prediction)]))\n",
      "\n",
      "\n",
      "def analyze(context, perf):\n",
      "    perf.portfolio_value.plot()\n",
      "    plt.ylabel('portfolio value in $')\n",
      "    plt.legend(loc=0)\n",
      "    plt.show()\n"
     ],
     "language": "python",
     "metadata": {},
     "outputs": [
      {
       "output_type": "stream",
       "stream": "stdout",
       "text": [
        "KO\n",
        "AAPL\n",
        "XOM\n",
        "PEP\n",
        "MSFT\n",
        "IBM\n",
        "ABT\n",
        "ACE\n",
        "ACN\n",
        "ACT\n",
        "ADBE\n",
        "A\n",
        "GAS\n",
        "APD\n",
        "AMG\n",
        "AFL\n",
        "AET"
       ]
      },
      {
       "output_type": "stream",
       "stream": "stderr",
       "text": [
        "[2014-10-26 10:02] INFO: Performance: Simulated 754 trading days out of 754.\n"
       ]
      },
      {
       "output_type": "stream",
       "stream": "stderr",
       "text": [
        "[2014-10-26 10:02] INFO: Performance: first open: 2010-01-04 14:31:00+00:00\n"
       ]
      },
      {
       "output_type": "stream",
       "stream": "stderr",
       "text": [
        "[2014-10-26 10:02] INFO: Performance: last close: 2012-12-31 21:00:00+00:00\n"
       ]
      },
      {
       "output_type": "stream",
       "stream": "stdout",
       "text": [
        "\n",
        "AES\n",
        "WYN\n",
        "WYNN\n",
        "XEL\n",
        "XRX\n",
        "XLNX\n",
        "XL\n",
        "ZMH\n",
        "ZION\n",
        "YUM\n",
        "YHOO\n"
       ]
      },
      {
       "metadata": {},
       "output_type": "display_data",
       "png": "[encoded data removed]",
       "text": [
        "<matplotlib.figure.Figure at 0xa8b5802c>"
       ]
      }
     ],
     "prompt_number": 8
    },
    {
     "cell_type": "markdown",
     "metadata": {},
     "source": [
      "Well those results were unexpected. Perhaps Wall Street does not react immediately after the announcement of news in earnings/revenues/eps changes and instead only reacts after news sinks in?"
     ]
    }
   ],
   "metadata": {}
  }
 ]
}